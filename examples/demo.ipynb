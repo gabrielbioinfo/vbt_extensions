{
 "cells": [
  {
   "cell_type": "markdown",
   "id": "18cb23f9",
   "metadata": {},
   "source": [
    "\n",
    "# vbt-extensions — Demo Completa (BTCUSDT)\n",
    "\n",
    "Este notebook demonstra um fluxo **end-to-end** usando `vbt_extensions`:\n",
    "\n",
    "1. **Dados** (Binance OHLCV) — com fallback sintético se indisponível  \n",
    "2. **Indicador** (Trend Lines)  \n",
    "3. **Sinais** (Breakout de linha de tendência)  \n",
    "4. **Backtest** (vectorbt `Portfolio.from_signals`)  \n",
    "5. **Relatórios e Plots**\n"
   ]
  },
  {
   "cell_type": "markdown",
   "id": "21cc2822",
   "metadata": {},
   "source": [
    "\n",
    "> **Pré-requisitos**  \n",
    "> - `vectorbt`, `pandas`, `numpy`  \n",
    "> - `vbt_extensions` instalado a partir do seu repositório  \n",
    "> - (Opcional) `python-binance` e credenciais, se quiser baixar dados reais\n"
   ]
  },
  {
   "cell_type": "code",
   "execution_count": 1,
   "id": "948dd6bf",
   "metadata": {},
   "outputs": [],
   "source": [
    "import sys\n",
    "\n",
    "sys.path.insert(0, \"..\")"
   ]
  },
  {
   "cell_type": "code",
   "execution_count": 2,
   "id": "52bf7330",
   "metadata": {},
   "outputs": [
    {
     "name": "stdout",
     "output_type": "stream",
     "text": [
      "vectorbt: 0.28.1\n"
     ]
    }
   ],
   "source": [
    "import pandas as pd\n",
    "import numpy as np\n",
    "import vectorbt as vbt\n",
    "\n",
    "# exibir versões para debug\n",
    "print(\"vectorbt:\", vbt.__version__)"
   ]
  },
  {
   "cell_type": "code",
   "execution_count": null,
   "id": "6ac9a747",
   "metadata": {},
   "outputs": [
    {
     "data": {
      "application/vnd.jupyter.widget-view+json": {
       "model_id": "9b474bec686e499ebd0c0c7bd87346d2",
       "version_major": 2,
       "version_minor": 0
      },
      "text/plain": [
       "0it [00:00, ?it/s]"
      ]
     },
     "metadata": {},
     "output_type": "display_data"
    },
    {
     "name": "stderr",
     "output_type": "stream",
     "text": [
      "c:\\Users\\gabriel\\workspace\\vbt_extensions\\examples\\..\\vbt_extensions\\data\\base.py:107: FutureWarning:\n",
      "\n",
      "'H' is deprecated and will be removed in a future version, please use 'h' instead.\n",
      "\n",
      "c:\\Users\\gabriel\\workspace\\vbt_extensions\\examples\\..\\vbt_extensions\\data\\base.py:127: FutureWarning:\n",
      "\n",
      "'H' is deprecated and will be removed in a future version, please use 'h' instead.\n",
      "\n"
     ]
    }
   ],
   "source": [
    "import numpy as np\n",
    "import pandas as pd\n",
    "import vectorbt as vbt\n",
    "from binance.client import Client\n",
    "\n",
    "from vbt_extensions.data.binance import BinanceDownloadParams, binance_download\n",
    "\n",
    "client = Client()\n",
    "params = BinanceDownloadParams(\n",
    "    client=client, symbol=\"BTCUSDT\",\n",
    "    interval=\"1h\", start=\"90 days ago UTC\", tz=\"UTC\",\n",
    "    fill_gaps=True, drop_partial_last=True,\n",
    ")\n",
    "df = binance_download(params)\n",
    "df.head()"
   ]
  },
  {
   "cell_type": "markdown",
   "id": "7160bd0b",
   "metadata": {},
   "source": [
    "## 1) Dados — Binance (com fallback sintético)"
   ]
  },
  {
   "cell_type": "code",
   "execution_count": 1,
   "id": "6b3d35c1",
   "metadata": {},
   "outputs": [
    {
     "name": "stdout",
     "output_type": "stream",
     "text": [
      "Falha ao baixar Binance, usando série sintética. Motivo: name 'BinanceDownloadParams' is not defined\n"
     ]
    },
    {
     "ename": "NameError",
     "evalue": "name 'pd' is not defined",
     "output_type": "error",
     "traceback": [
      "\u001b[31m---------------------------------------------------------------------------\u001b[39m",
      "\u001b[31mNameError\u001b[39m                                 Traceback (most recent call last)",
      "\u001b[36mCell\u001b[39m\u001b[36m \u001b[39m\u001b[32mIn[1]\u001b[39m\u001b[32m, line 21\u001b[39m\n\u001b[32m     17\u001b[39m     USE_SYNTH = \u001b[38;5;28;01mTrue\u001b[39;00m\n\u001b[32m     19\u001b[39m \u001b[38;5;28;01mif\u001b[39;00m USE_SYNTH:\n\u001b[32m     20\u001b[39m     \u001b[38;5;66;03m# Série sintética via GBM para a demo ficar auto-contida\u001b[39;00m\n\u001b[32m---> \u001b[39m\u001b[32m21\u001b[39m     idx = \u001b[43mpd\u001b[49m.date_range(end=pd.Timestamp.utcnow().floor(\u001b[33m\"\u001b[39m\u001b[33mH\u001b[39m\u001b[33m\"\u001b[39m), periods=\u001b[32m24\u001b[39m*\u001b[32m90\u001b[39m, freq=\u001b[33m\"\u001b[39m\u001b[33mH\u001b[39m\u001b[33m\"\u001b[39m, tz=\u001b[33m\"\u001b[39m\u001b[33mUTC\u001b[39m\u001b[33m\"\u001b[39m)\n\u001b[32m     22\u001b[39m     np.random.seed(\u001b[32m42\u001b[39m)\n\u001b[32m     23\u001b[39m     mu, sigma = \u001b[32m0.0002\u001b[39m, \u001b[32m0.02\u001b[39m\n",
      "\u001b[31mNameError\u001b[39m: name 'pd' is not defined"
     ]
    }
   ],
   "source": [
    "\n",
    "USE_SYNTH = False\n",
    "df = None\n",
    "\n",
    "try:\n",
    "    from binance.client import Client\n",
    "    client = Client()  # usa credenciais do ambiente se configuradas\n",
    "\n",
    "    params = BinanceDownloadParams(\n",
    "        client=client, ticker=\"BTCUSDT\",\n",
    "        interval=\"1h\", start=\"90 days ago UTC\", tz=\"UTC\",\n",
    "        fill_gaps=True, drop_partial_last=True\n",
    "    )\n",
    "    df = binance_download(params)\n",
    "    print(\"Dados Binance carregados:\", df.shape, df.index.min(), \"->\", df.index.max())\n",
    "except Exception as e:\n",
    "    print(\"Falha ao baixar Binance, usando série sintética. Motivo:\", e)\n",
    "    USE_SYNTH = True\n",
    "\n",
    "if USE_SYNTH:\n",
    "    # Série sintética via GBM para a demo ficar auto-contida\n",
    "    idx = pd.date_range(end=pd.Timestamp.utcnow().floor(\"H\"), periods=24*90, freq=\"H\", tz=\"UTC\")\n",
    "    np.random.seed(42)\n",
    "    mu, sigma = 0.0002, 0.02\n",
    "    returns = np.random.normal(mu, sigma, size=len(idx))\n",
    "    close = 30000 * np.exp(np.cumsum(returns))\n",
    "    high = close * (1 + np.random.uniform(0, 0.01, len(idx)))\n",
    "    low = close * (1 - np.random.uniform(0, 0.01, len(idx)))\n",
    "    open_ = pd.Series(close).shift(1).fillna(close[0]).values\n",
    "    vol = np.random.uniform(10, 100, len(idx))\n",
    "    df = pd.DataFrame({\n",
    "        \"Open\": open_,\n",
    "        \"High\": high,\n",
    "        \"Low\": low,\n",
    "        \"Close\": close,\n",
    "        \"Volume\": vol\n",
    "    }, index=idx).astype(float)\n",
    "    print(\"Dados sintéticos gerados:\", df.shape, df.index.min(), \"->\", df.index.max())\n",
    "\n",
    "df.tail()\n"
   ]
  },
  {
   "cell_type": "markdown",
   "id": "bc6a952d",
   "metadata": {},
   "source": [
    "## 2) Indicador — Trend Lines"
   ]
  },
  {
   "cell_type": "code",
   "execution_count": null,
   "id": "bcca5cee",
   "metadata": {},
   "outputs": [],
   "source": [
    "\n",
    "tl = TREND_LINE.run(\n",
    "    high=df[\"High\"],\n",
    "    low=df[\"Low\"],\n",
    "    close=df[\"Close\"],\n",
    "    lookback=100,\n",
    "    touch_tol=0.001,\n",
    "    compute_events=True,\n",
    ")\n",
    "tl.support_level.tail(), tl.resist_level.tail()\n"
   ]
  },
  {
   "cell_type": "markdown",
   "id": "1212919a",
   "metadata": {},
   "source": [
    "## 3) Sinais — Breakout nas linhas de tendência"
   ]
  },
  {
   "cell_type": "code",
   "execution_count": null,
   "id": "28643164",
   "metadata": {},
   "outputs": [],
   "source": [
    "\n",
    "entries, exits, _, _ = tl_breakout_sig(\n",
    "    df[\"Close\"],\n",
    "    resist_level=tl.resist_level,\n",
    "    support_level=tl.support_level,\n",
    "    confirm_shift=1\n",
    ")\n",
    "entries.tail(), exits.tail()\n"
   ]
  },
  {
   "cell_type": "markdown",
   "id": "ff0d00d0",
   "metadata": {},
   "source": [
    "### (Opcional) Regime por slope"
   ]
  },
  {
   "cell_type": "code",
   "execution_count": null,
   "id": "1e837260",
   "metadata": {},
   "outputs": [],
   "source": [
    "\n",
    "regime = classify_trend_regime(\n",
    "    support_slope=tl.support_slope,\n",
    "    resist_slope=tl.resist_slope,\n",
    "    up_thresh=0.0001,\n",
    "    down_thresh=0.0001,\n",
    ")\n",
    "regime.value_counts()\n"
   ]
  },
  {
   "cell_type": "markdown",
   "id": "8dec4dab",
   "metadata": {},
   "source": [
    "## 4) Backtest — Portfolio.from_signals"
   ]
  },
  {
   "cell_type": "code",
   "execution_count": null,
   "id": "cef1ed85",
   "metadata": {},
   "outputs": [],
   "source": [
    "\n",
    "pf = vbt.Portfolio.from_signals(\n",
    "    close=df[\"Close\"],\n",
    "    entries=entries,\n",
    "    exits=exits,\n",
    "    slippage=0.0005, fees=0.0005, init_cash=100_000,\n",
    "    freq=\"H\"\n",
    ")\n",
    "pf.stats()\n"
   ]
  },
  {
   "cell_type": "markdown",
   "id": "8498e3d7",
   "metadata": {},
   "source": [
    "## 5) Plots — Preço + Trend Lines + Regime"
   ]
  },
  {
   "cell_type": "code",
   "execution_count": null,
   "id": "945a3485",
   "metadata": {},
   "outputs": [],
   "source": [
    "\n",
    "fig = plot_trend_lines(\n",
    "    df[\"Close\"],\n",
    "    support_level=tl.support_level, resist_level=tl.resist_level,\n",
    "    touch_support=tl.touch_support, touch_resist=tl.touch_resist,\n",
    "    break_up=tl.break_up, break_down=tl.break_down,\n",
    "    title=\"Trend Lines + Eventos\"\n",
    ")\n",
    "fig = plot_regime_background(df[\"Close\"], regime, title=\"Trend Lines + Regime\", fig=fig)\n",
    "fig.show()\n"
   ]
  },
  {
   "cell_type": "markdown",
   "id": "eca823b5",
   "metadata": {},
   "source": [
    "## 6) Relatório — full_tearsheet"
   ]
  },
  {
   "cell_type": "code",
   "execution_count": null,
   "id": "ca4e2650",
   "metadata": {},
   "outputs": [],
   "source": [
    "\n",
    "full_tearsheet(pf)\n"
   ]
  }
 ],
 "metadata": {
  "kernelspec": {
   "display_name": "vbt-extensions",
   "language": "python",
   "name": "python3"
  },
  "language_info": {
   "codemirror_mode": {
    "name": "ipython",
    "version": 3
   },
   "file_extension": ".py",
   "mimetype": "text/x-python",
   "name": "python",
   "nbconvert_exporter": "python",
   "pygments_lexer": "ipython3",
   "version": "3.12.10"
  }
 },
 "nbformat": 4,
 "nbformat_minor": 5
}
