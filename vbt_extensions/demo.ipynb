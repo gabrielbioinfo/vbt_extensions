{
 "cells": [
  {
   "cell_type": "markdown",
   "id": "18cb23f9",
   "metadata": {},
   "source": [
    "\n",
    "# vbt-extensions — Demo Completa (BTCUSDT)\n",
    "\n",
    "Este notebook demonstra um fluxo **end-to-end** usando `vbt_extensions`:\n",
    "\n",
    "1. **Dados** (Binance OHLCV) — com fallback sintético se indisponível  \n",
    "2. **Indicador** (Trend Lines)  \n",
    "3. **Sinais** (Breakout de linha de tendência)  \n",
    "4. **Backtest** (vectorbt `Portfolio.from_signals`)  \n",
    "5. **Relatórios e Plots**\n"
   ]
  },
  {
   "cell_type": "markdown",
   "id": "21cc2822",
   "metadata": {},
   "source": [
    "\n",
    "> **Pré-requisitos**  \n",
    "> - `vectorbt`, `pandas`, `numpy`  \n",
    "> - `vbt_extensions` instalado a partir do seu repositório  \n",
    "> - (Opcional) `python-binance` e credenciais, se quiser baixar dados reais\n"
   ]
  },
  {
   "cell_type": "code",
   "execution_count": null,
   "id": "52bf7330",
   "metadata": {},
   "outputs": [],
   "source": [
    "\n",
    "import pandas as pd\n",
    "import numpy as np\n",
    "import vectorbt as vbt\n",
    "\n",
    "from vbt_extensions.data import BinanceDownloadParams, binance_download\n",
    "from vbt_extensions.ind import TREND_LINE\n",
    "from vbt_extensions.sig import tl_breakout_sig\n",
    "from vbt_extensions.metrics import full_tearsheet\n",
    "from vbt_extensions.plotting import plot_trend_lines, plot_regime_background\n",
    "from vbt_extensions.sig import classify_trend_regime\n",
    "\n",
    "# exibir versões para debug\n",
    "print(\"vectorbt:\", vbt.__version__)\n"
   ]
  },
  {
   "cell_type": "markdown",
   "id": "7160bd0b",
   "metadata": {},
   "source": [
    "## 1) Dados — Binance (com fallback sintético)"
   ]
  },
  {
   "cell_type": "code",
   "execution_count": null,
   "id": "6b3d35c1",
   "metadata": {},
   "outputs": [],
   "source": [
    "\n",
    "USE_SYNTH = False\n",
    "df = None\n",
    "\n",
    "try:\n",
    "    from binance.client import Client\n",
    "    client = Client()  # usa credenciais do ambiente se configuradas\n",
    "\n",
    "    params = BinanceDownloadParams(\n",
    "        client=client, ticker=\"BTCUSDT\",\n",
    "        interval=\"1h\", start=\"90 days ago UTC\", tz=\"UTC\",\n",
    "        fill_gaps=True, drop_partial_last=True\n",
    "    )\n",
    "    df = binance_download(params)\n",
    "    print(\"Dados Binance carregados:\", df.shape, df.index.min(), \"->\", df.index.max())\n",
    "except Exception as e:\n",
    "    print(\"Falha ao baixar Binance, usando série sintética. Motivo:\", e)\n",
    "    USE_SYNTH = True\n",
    "\n",
    "if USE_SYNTH:\n",
    "    # Série sintética via GBM para a demo ficar auto-contida\n",
    "    idx = pd.date_range(end=pd.Timestamp.utcnow().floor(\"H\"), periods=24*90, freq=\"H\", tz=\"UTC\")\n",
    "    np.random.seed(42)\n",
    "    mu, sigma = 0.0002, 0.02\n",
    "    returns = np.random.normal(mu, sigma, size=len(idx))\n",
    "    close = 30000 * np.exp(np.cumsum(returns))\n",
    "    high = close * (1 + np.random.uniform(0, 0.01, len(idx)))\n",
    "    low = close * (1 - np.random.uniform(0, 0.01, len(idx)))\n",
    "    open_ = pd.Series(close).shift(1).fillna(close[0]).values\n",
    "    vol = np.random.uniform(10, 100, len(idx))\n",
    "    df = pd.DataFrame({\n",
    "        \"Open\": open_,\n",
    "        \"High\": high,\n",
    "        \"Low\": low,\n",
    "        \"Close\": close,\n",
    "        \"Volume\": vol\n",
    "    }, index=idx).astype(float)\n",
    "    print(\"Dados sintéticos gerados:\", df.shape, df.index.min(), \"->\", df.index.max())\n",
    "\n",
    "df.tail()\n"
   ]
  },
  {
   "cell_type": "markdown",
   "id": "bc6a952d",
   "metadata": {},
   "source": [
    "## 2) Indicador — Trend Lines"
   ]
  },
  {
   "cell_type": "code",
   "execution_count": null,
   "id": "bcca5cee",
   "metadata": {},
   "outputs": [],
   "source": [
    "\n",
    "tl = TREND_LINE.run(\n",
    "    high=df[\"High\"],\n",
    "    low=df[\"Low\"],\n",
    "    close=df[\"Close\"],\n",
    "    lookback=100,\n",
    "    touch_tol=0.001,\n",
    "    compute_events=True,\n",
    ")\n",
    "tl.support_level.tail(), tl.resist_level.tail()\n"
   ]
  },
  {
   "cell_type": "markdown",
   "id": "1212919a",
   "metadata": {},
   "source": [
    "## 3) Sinais — Breakout nas linhas de tendência"
   ]
  },
  {
   "cell_type": "code",
   "execution_count": null,
   "id": "28643164",
   "metadata": {},
   "outputs": [],
   "source": [
    "\n",
    "entries, exits, _, _ = tl_breakout_sig(\n",
    "    df[\"Close\"],\n",
    "    resist_level=tl.resist_level,\n",
    "    support_level=tl.support_level,\n",
    "    confirm_shift=1\n",
    ")\n",
    "entries.tail(), exits.tail()\n"
   ]
  },
  {
   "cell_type": "markdown",
   "id": "ff0d00d0",
   "metadata": {},
   "source": [
    "### (Opcional) Regime por slope"
   ]
  },
  {
   "cell_type": "code",
   "execution_count": null,
   "id": "1e837260",
   "metadata": {},
   "outputs": [],
   "source": [
    "\n",
    "regime = classify_trend_regime(\n",
    "    support_slope=tl.support_slope,\n",
    "    resist_slope=tl.resist_slope,\n",
    "    up_thresh=0.0001,\n",
    "    down_thresh=0.0001,\n",
    ")\n",
    "regime.value_counts()\n"
   ]
  },
  {
   "cell_type": "markdown",
   "id": "8dec4dab",
   "metadata": {},
   "source": [
    "## 4) Backtest — Portfolio.from_signals"
   ]
  },
  {
   "cell_type": "code",
   "execution_count": null,
   "id": "cef1ed85",
   "metadata": {},
   "outputs": [],
   "source": [
    "\n",
    "pf = vbt.Portfolio.from_signals(\n",
    "    close=df[\"Close\"],\n",
    "    entries=entries,\n",
    "    exits=exits,\n",
    "    slippage=0.0005, fees=0.0005, init_cash=100_000,\n",
    "    freq=\"H\"\n",
    ")\n",
    "pf.stats()\n"
   ]
  },
  {
   "cell_type": "markdown",
   "id": "8498e3d7",
   "metadata": {},
   "source": [
    "## 5) Plots — Preço + Trend Lines + Regime"
   ]
  },
  {
   "cell_type": "code",
   "execution_count": null,
   "id": "945a3485",
   "metadata": {},
   "outputs": [],
   "source": [
    "\n",
    "fig = plot_trend_lines(\n",
    "    df[\"Close\"],\n",
    "    support_level=tl.support_level, resist_level=tl.resist_level,\n",
    "    touch_support=tl.touch_support, touch_resist=tl.touch_resist,\n",
    "    break_up=tl.break_up, break_down=tl.break_down,\n",
    "    title=\"Trend Lines + Eventos\"\n",
    ")\n",
    "fig = plot_regime_background(df[\"Close\"], regime, title=\"Trend Lines + Regime\", fig=fig)\n",
    "fig.show()\n"
   ]
  },
  {
   "cell_type": "markdown",
   "id": "eca823b5",
   "metadata": {},
   "source": [
    "## 6) Relatório — full_tearsheet"
   ]
  },
  {
   "cell_type": "code",
   "execution_count": null,
   "id": "ca4e2650",
   "metadata": {},
   "outputs": [],
   "source": [
    "\n",
    "full_tearsheet(pf)\n"
   ]
  }
 ],
 "metadata": {},
 "nbformat": 4,
 "nbformat_minor": 5
}
